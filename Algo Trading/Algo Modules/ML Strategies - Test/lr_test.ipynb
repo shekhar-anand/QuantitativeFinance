{
 "cells": [
  {
   "cell_type": "markdown",
   "metadata": {},
   "source": [
    "## Linear regression based Algorithm\n",
    "\n",
    "The most basic machine learning algorithm that can be implemented on the data is linear regression. \n",
    "The linear regression model returns an equation that determines the relationship between the independent variables and the dependent variable.\n",
    "\n",
    "The equation for linear regression can be written as:  \n",
    "                **Y = W1X1 + W2X2 + .....+ WnXn**\n",
    "\n",
    "Here, X1, X2,….Xn represent the independent variables while the coefficients W1, W2, …. Wn  represent the weights. \n",
    "\n",
    "We are using the date column to extract features like – day, month, year,  mon/fri etc. and then fit a linear regression model.\n"
   ]
  },
  {
   "cell_type": "code",
   "execution_count": 14,
   "metadata": {},
   "outputs": [
    {
     "data": {
      "text/html": [
       "<div>\n",
       "<style scoped>\n",
       "    .dataframe tbody tr th:only-of-type {\n",
       "        vertical-align: middle;\n",
       "    }\n",
       "\n",
       "    .dataframe tbody tr th {\n",
       "        vertical-align: top;\n",
       "    }\n",
       "\n",
       "    .dataframe thead th {\n",
       "        text-align: right;\n",
       "    }\n",
       "</style>\n",
       "<table border=\"1\" class=\"dataframe\">\n",
       "  <thead>\n",
       "    <tr style=\"text-align: right;\">\n",
       "      <th></th>\n",
       "      <th>Date</th>\n",
       "      <th>Open</th>\n",
       "      <th>High</th>\n",
       "      <th>Low</th>\n",
       "      <th>Last</th>\n",
       "      <th>Close</th>\n",
       "      <th>Total Trade Quantity</th>\n",
       "      <th>Turnover (Lacs)</th>\n",
       "    </tr>\n",
       "  </thead>\n",
       "  <tbody>\n",
       "    <tr>\n",
       "      <th>0</th>\n",
       "      <td>2018-12-17</td>\n",
       "      <td>212.80</td>\n",
       "      <td>213.40</td>\n",
       "      <td>209.50</td>\n",
       "      <td>210.00</td>\n",
       "      <td>210.05</td>\n",
       "      <td>1303397.0</td>\n",
       "      <td>2740.81</td>\n",
       "    </tr>\n",
       "    <tr>\n",
       "      <th>1</th>\n",
       "      <td>2018-12-14</td>\n",
       "      <td>212.00</td>\n",
       "      <td>213.35</td>\n",
       "      <td>210.00</td>\n",
       "      <td>213.30</td>\n",
       "      <td>212.35</td>\n",
       "      <td>860565.0</td>\n",
       "      <td>1822.86</td>\n",
       "    </tr>\n",
       "    <tr>\n",
       "      <th>2</th>\n",
       "      <td>2018-12-13</td>\n",
       "      <td>213.35</td>\n",
       "      <td>215.70</td>\n",
       "      <td>210.25</td>\n",
       "      <td>212.90</td>\n",
       "      <td>212.40</td>\n",
       "      <td>1196911.0</td>\n",
       "      <td>2552.82</td>\n",
       "    </tr>\n",
       "    <tr>\n",
       "      <th>3</th>\n",
       "      <td>2018-12-12</td>\n",
       "      <td>203.15</td>\n",
       "      <td>213.90</td>\n",
       "      <td>203.00</td>\n",
       "      <td>212.65</td>\n",
       "      <td>212.95</td>\n",
       "      <td>1755046.0</td>\n",
       "      <td>3695.14</td>\n",
       "    </tr>\n",
       "    <tr>\n",
       "      <th>4</th>\n",
       "      <td>2018-12-11</td>\n",
       "      <td>195.00</td>\n",
       "      <td>203.80</td>\n",
       "      <td>195.00</td>\n",
       "      <td>202.85</td>\n",
       "      <td>202.85</td>\n",
       "      <td>1818568.0</td>\n",
       "      <td>3635.49</td>\n",
       "    </tr>\n",
       "  </tbody>\n",
       "</table>\n",
       "</div>"
      ],
      "text/plain": [
       "         Date    Open    High     Low    Last   Close  Total Trade Quantity  \\\n",
       "0  2018-12-17  212.80  213.40  209.50  210.00  210.05             1303397.0   \n",
       "1  2018-12-14  212.00  213.35  210.00  213.30  212.35              860565.0   \n",
       "2  2018-12-13  213.35  215.70  210.25  212.90  212.40             1196911.0   \n",
       "3  2018-12-12  203.15  213.90  203.00  212.65  212.95             1755046.0   \n",
       "4  2018-12-11  195.00  203.80  195.00  202.85  202.85             1818568.0   \n",
       "\n",
       "   Turnover (Lacs)  \n",
       "0          2740.81  \n",
       "1          1822.86  \n",
       "2          2552.82  \n",
       "3          3695.14  \n",
       "4          3635.49  "
      ]
     },
     "execution_count": 14,
     "metadata": {},
     "output_type": "execute_result"
    }
   ],
   "source": [
    "# import packages\n",
    "import pandas as pd\n",
    "import numpy as np\n",
    "\n",
    "# to plot within notebook\n",
    "import matplotlib.pyplot as plt\n",
    "%matplotlib inline\n",
    "\n",
    "# setting figure size\n",
    "from matplotlib.pylab import rcParams\n",
    "\n",
    "rcParams['figure.figsize'] = 20, 10\n",
    "\n",
    "# for normalizing data\n",
    "from sklearn.preprocessing import MinMaxScaler\n",
    "\n",
    "scaler = MinMaxScaler(feature_range=(0, 1))\n",
    "\n",
    "# read the file\n",
    "df = pd.read_csv('NSE-TATAGLOBAL.csv')\n",
    "\n",
    "# print the head\n",
    "df.head()\n"
   ]
  },
  {
   "cell_type": "code",
   "execution_count": 15,
   "metadata": {},
   "outputs": [],
   "source": [
    "# setting index as date\n",
    "df['Date'] = pd.to_datetime(df.Date,format='%Y-%m-%d')\n",
    "df.index = df['Date']\n"
   ]
  },
  {
   "cell_type": "code",
   "execution_count": 16,
   "metadata": {},
   "outputs": [],
   "source": [
    "# sorting\n",
    "data = df.sort_index(ascending=True, axis=0)"
   ]
  },
  {
   "cell_type": "code",
   "execution_count": 17,
   "metadata": {},
   "outputs": [],
   "source": [
    "# creating a separate dataset\n",
    "new_data = pd.DataFrame(index=range(0, len(df)), columns=['Date', 'Close'])\n",
    "\n",
    "for i in range(0, len(data)):\n",
    "    new_data['Date'][i] = data['Date'][i]\n",
    "    new_data['Close'][i] = data['Close'][i]\n"
   ]
  },
  {
   "cell_type": "code",
   "execution_count": 18,
   "metadata": {},
   "outputs": [
    {
     "data": {
      "text/plain": [
       "(2087, 1687, 400)"
      ]
     },
     "execution_count": 18,
     "metadata": {},
     "output_type": "execute_result"
    }
   ],
   "source": [
    "total = len(new_data)\n",
    "cut_length = 1687\n",
    "remain = total - cut_length\n",
    "total, cut_length, remain\n"
   ]
  },
  {
   "cell_type": "code",
   "execution_count": 19,
   "metadata": {},
   "outputs": [
    {
     "name": "stdout",
     "output_type": "stream",
     "text": [
      "2087 2087 2087 2087 2087 2087 2087 2087 2087 2087 2087 2087\n"
     ]
    }
   ],
   "source": [
    "# attr = ['Year', 'Month', 'Week', 'Day', 'Dayofweek', 'Dayofyear',\n",
    "#             'Is_month_end', 'Is_month_start', 'Is_quarter_end', 'Is_quarter_start', 'Is_year_end', 'Is_year_start']\n",
    "\n",
    "year, month, week, day, day_of_week, day_of_year = [], [], [], [], [], []\n",
    "Is_month_end, Is_month_start, Is_quarter_end, Is_quarter_start, Is_year_end, Is_year_start = [], [], [], [], [], []\n",
    "date = new_data['Date'].values\n",
    "for ts in date:\n",
    "    dt_year, dt_week, dt_weekday = ts.isocalendar()\n",
    "    year.append(dt_year)\n",
    "    month.append(ts.month)\n",
    "    week.append(dt_week)\n",
    "    day.append(ts.day)\n",
    "    day_of_week.append(dt_weekday)\n",
    "    day_of_year.append(ts.timetuple().tm_yday)\n",
    "    Is_month_end.append(ts.is_month_end)\n",
    "    Is_month_start.append(ts.is_month_start)\n",
    "    Is_quarter_end.append(ts.is_quarter_end)\n",
    "    Is_quarter_start.append(ts.is_quarter_start)\n",
    "    Is_year_end.append(ts.is_year_end)\n",
    "    Is_year_start.append(ts.is_year_start)\n",
    "\n",
    "print(len(year), len(month), len(week), len(day), len(day_of_week), len(day_of_year), len(Is_month_end),\n",
    "      len(Is_month_start), len(Is_quarter_end), len(Is_quarter_start), len(Is_year_start), len(Is_year_end))\n"
   ]
  },
  {
   "cell_type": "code",
   "execution_count": 20,
   "metadata": {},
   "outputs": [],
   "source": [
    "new_data['Year'] = year\n",
    "new_data['Month'] = month\n",
    "new_data['Week'] = week\n",
    "new_data['Day'] = day\n",
    "new_data['Dayofweek'] = day_of_week\n",
    "new_data['Dayofyear'] = day_of_year\n",
    "new_data['Is_month_end'] = Is_month_end\n",
    "new_data['Is_month_start'] = Is_month_start\n",
    "new_data['Is_quarter_end'] = Is_quarter_end\n",
    "new_data['Is_quarter_start'] = Is_quarter_start\n",
    "new_data['Is_year_end'] = Is_year_end\n",
    "new_data['Is_year_start'] = Is_year_start\n",
    "\n",
    "new_data.drop('Date', axis=1, inplace=True)  # elapsed will be the time stamp\n"
   ]
  },
  {
   "cell_type": "code",
   "execution_count": 21,
   "metadata": {},
   "outputs": [
    {
     "data": {
      "text/plain": [
       "((2087, 13), (1687, 13), (400, 13))"
      ]
     },
     "execution_count": 21,
     "metadata": {},
     "output_type": "execute_result"
    }
   ],
   "source": [
    "# split into train and validation\n",
    "train = new_data[:cut_length]\n",
    "valid = new_data[cut_length:]\n",
    "\n",
    "new_data.shape, train.shape, valid.shape\n"
   ]
  },
  {
   "cell_type": "code",
   "execution_count": 22,
   "metadata": {},
   "outputs": [],
   "source": [
    "x_train = train.drop('Close', axis=1)\n",
    "y_train = train['Close']\n",
    "x_valid = valid.drop('Close', axis=1)\n",
    "y_valid = valid['Close']\n"
   ]
  },
  {
   "cell_type": "code",
   "execution_count": 23,
   "metadata": {},
   "outputs": [],
   "source": [
    "# y_train\n"
   ]
  },
  {
   "cell_type": "code",
   "execution_count": 24,
   "metadata": {},
   "outputs": [
    {
     "data": {
      "text/plain": [
       "LinearRegression(copy_X=True, fit_intercept=True, n_jobs=None,\n",
       "         normalize=False)"
      ]
     },
     "execution_count": 24,
     "metadata": {},
     "output_type": "execute_result"
    }
   ],
   "source": [
    "# implement linear regression\n",
    "from sklearn.linear_model import LinearRegression\n",
    "\n",
    "model = LinearRegression()\n",
    "model.fit(x_train, y_train)\n"
   ]
  },
  {
   "cell_type": "code",
   "execution_count": 25,
   "metadata": {},
   "outputs": [
    {
     "data": {
      "text/plain": [
       "91.31333519375146"
      ]
     },
     "execution_count": 25,
     "metadata": {},
     "output_type": "execute_result"
    }
   ],
   "source": [
    "# make predictions and find the rmse\n",
    "preds = model.predict(x_valid)\n",
    "rms = np.sqrt(np.mean(np.power((np.array(y_valid) - np.array(preds)), 2)))\n",
    "rms\n"
   ]
  },
  {
   "cell_type": "code",
   "execution_count": 26,
   "metadata": {},
   "outputs": [
    {
     "name": "stderr",
     "output_type": "stream",
     "text": [
      "C:\\ProgramData\\Miniconda3\\envs\\ML\\lib\\site-packages\\ipykernel_launcher.py:2: SettingWithCopyWarning: \n",
      "A value is trying to be set on a copy of a slice from a DataFrame.\n",
      "Try using .loc[row_indexer,col_indexer] = value instead\n",
      "\n",
      "See the caveats in the documentation: http://pandas.pydata.org/pandas-docs/stable/indexing.html#indexing-view-versus-copy\n",
      "  \n",
      "C:\\ProgramData\\Miniconda3\\envs\\ML\\lib\\site-packages\\ipykernel_launcher.py:3: SettingWithCopyWarning: \n",
      "A value is trying to be set on a copy of a slice from a DataFrame.\n",
      "Try using .loc[row_indexer,col_indexer] = value instead\n",
      "\n",
      "See the caveats in the documentation: http://pandas.pydata.org/pandas-docs/stable/indexing.html#indexing-view-versus-copy\n",
      "  This is separate from the ipykernel package so we can avoid doing imports until\n"
     ]
    },
    {
     "data": {
      "text/plain": [
       "[<matplotlib.lines.Line2D at 0x53895f8>,\n",
       " <matplotlib.lines.Line2D at 0x5389748>]"
      ]
     },
     "execution_count": 26,
     "metadata": {},
     "output_type": "execute_result"
    },
    {
     "data": {
      "image/png": "[encoded data removed]",
      "text/plain": [
       "<Figure size 1440x720 with 1 Axes>"
      ]
     },
     "metadata": {
      "needs_background": "light"
     },
     "output_type": "display_data"
    }
   ],
   "source": [
    "# plot\n",
    "valid['Predictions'] = 0\n",
    "valid['Predictions'] = preds\n",
    "\n",
    "valid.index = new_data[cut_length:].index\n",
    "train.index = new_data[:cut_length].index\n",
    "\n",
    "plt.plot(train['Close'])\n",
    "plt.plot(valid[['Close', 'Predictions']])\n"
   ]
  }
 ],
 "metadata": {
  "kernelspec": {
   "display_name": "Python (ML)",
   "language": "python",
   "name": "ml"
  },
  "language_info": {
   "codemirror_mode": {
    "name": "ipython",
    "version": 3
   },
   "file_extension": ".py",
   "mimetype": "text/x-python",
   "name": "python",
   "nbconvert_exporter": "python",
   "pygments_lexer": "ipython3",
   "version": "3.6.7"
  }
 },
 "nbformat": 4,
 "nbformat_minor": 2
}
